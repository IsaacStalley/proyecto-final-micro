{
 "cells": [
  {
   "cell_type": "code",
   "execution_count": 1,
   "metadata": {},
   "outputs": [],
   "source": [
    "import numpy as np\n",
    "from keras.datasets import mnist\n",
    "from keras.models import Sequential\n",
    "from keras.layers import Conv2D, MaxPooling2D, Flatten, Dense\n",
    "from keras.utils import to_categorical\n",
    "import tensorflow as tf\n",
    "import matplotlib.pyplot as plt"
   ]
  },
  {
   "cell_type": "code",
   "execution_count": 2,
   "metadata": {},
   "outputs": [],
   "source": [
    "# Load MNIST dataset\n",
    "(x_train, y_train), (x_test, y_test) = mnist.load_data()\n",
    "\n",
    "# Preprocess the data\n",
    "x_train = np.expand_dims(x_train, axis=-1).astype('float32') / 255.0\n",
    "x_test = np.expand_dims(x_test, axis=-1).astype('float32') / 255.0\n",
    "\n",
    "y_train = to_categorical(y_train, 10)\n",
    "y_test = to_categorical(y_test, 10)"
   ]
  },
  {
   "cell_type": "code",
   "execution_count": 12,
   "metadata": {},
   "outputs": [
    {
     "data": {
      "image/png": "[encoded data removed]",
      "text/plain": [
       "<Figure size 640x480 with 1 Axes>"
      ]
     },
     "metadata": {},
     "output_type": "display_data"
    }
   ],
   "source": [
    "image_index = 9  # Change this index to display a different image\n",
    "\n",
    "# Get the image and label\n",
    "selected_image = x_train[image_index]\n",
    "label = y_train[image_index]\n",
    "\n",
    "# Display the grayscale image\n",
    "plt.imshow(selected_image, cmap='gray')\n",
    "plt.title(f'MNIST Digit: {label}')\n",
    "plt.show()"
   ]
  },
  {
   "cell_type": "code",
   "execution_count": 15,
   "metadata": {},
   "outputs": [
    {
     "name": "stdout",
     "output_type": "stream",
     "text": [
      "Epoch 1/5\n",
      "938/938 [==============================] - 15s 15ms/step - loss: 0.2011 - accuracy: 0.9423 - val_loss: 0.0797 - val_accuracy: 0.9732\n",
      "Epoch 2/5\n",
      "938/938 [==============================] - 14s 15ms/step - loss: 0.0612 - accuracy: 0.9812 - val_loss: 0.0508 - val_accuracy: 0.9831\n",
      "Epoch 3/5\n",
      "938/938 [==============================] - 14s 15ms/step - loss: 0.0433 - accuracy: 0.9870 - val_loss: 0.0393 - val_accuracy: 0.9869\n",
      "Epoch 4/5\n",
      "938/938 [==============================] - 14s 15ms/step - loss: 0.0340 - accuracy: 0.9892 - val_loss: 0.0340 - val_accuracy: 0.9880\n",
      "Epoch 5/5\n",
      "938/938 [==============================] - 14s 15ms/step - loss: 0.0270 - accuracy: 0.9914 - val_loss: 0.0373 - val_accuracy: 0.9883\n",
      "313/313 [==============================] - 1s 2ms/step - loss: 0.0373 - accuracy: 0.9883\n",
      "Test loss: 0.0372806116938591\n",
      "Test accuracy: 0.9883000254631042\n"
     ]
    }
   ],
   "source": [
    "# Build the CNN model\n",
    "model = Sequential()\n",
    "model.add(Conv2D(32, kernel_size=(3, 3), activation='relu', input_shape=(28, 28, 1)))\n",
    "model.add(MaxPooling2D(pool_size=(2, 2)))\n",
    "model.add(Conv2D(64, kernel_size=(3, 3), activation='relu'))\n",
    "model.add(MaxPooling2D(pool_size=(2, 2)))\n",
    "model.add(Flatten())\n",
    "model.add(Dense(64, activation='relu'))\n",
    "model.add(Dense(10, activation='softmax'))\n",
    "\n",
    "# Compile the model\n",
    "model.compile(optimizer='adam', loss='categorical_crossentropy', metrics=['accuracy'])\n",
    "\n",
    "# Train the model\n",
    "model.fit(x_train, y_train, epochs=5, batch_size=64, validation_data=(x_test, y_test))\n",
    "\n",
    "# Evaluate the model\n",
    "score = model.evaluate(x_test, y_test)\n",
    "print(f'Test loss: {score[0]}')\n",
    "print(f'Test accuracy: {score[1]}')"
   ]
  },
  {
   "cell_type": "code",
   "execution_count": 14,
   "metadata": {},
   "outputs": [
    {
     "name": "stderr",
     "output_type": "stream",
     "text": [
      "WARNING:absl:Found untraced functions such as _jit_compiled_convolution_op, _jit_compiled_convolution_op, _update_step_xla while saving (showing 3 of 3). These functions will not be directly callable after loading.\n"
     ]
    },
    {
     "name": "stdout",
     "output_type": "stream",
     "text": [
      "INFO:tensorflow:Assets written to: C:\\Users\\ISAACS~1\\AppData\\Local\\Temp\\tmp4rkwlacb\\assets\n"
     ]
    },
    {
     "name": "stderr",
     "output_type": "stream",
     "text": [
      "INFO:tensorflow:Assets written to: C:\\Users\\ISAACS~1\\AppData\\Local\\Temp\\tmp4rkwlacb\\assets\n"
     ]
    }
   ],
   "source": [
    "# Save the model as a TensorFlow Lite model\n",
    "converter = tf.lite.TFLiteConverter.from_keras_model(model)\n",
    "tflite_model = converter.convert()\n",
    "\n",
    "# Save the TensorFlow Lite model to a file\n",
    "with open('mnist_model.tflite', 'wb') as f:\n",
    "    f.write(tflite_model)"
   ]
  }
 ],
 "metadata": {
  "kernelspec": {
   "display_name": "Python 3",
   "language": "python",
   "name": "python3"
  },
  "language_info": {
   "codemirror_mode": {
    "name": "ipython",
    "version": 3
   },
   "file_extension": ".py",
   "mimetype": "text/x-python",
   "name": "python",
   "nbconvert_exporter": "python",
   "pygments_lexer": "ipython3",
   "version": "3.10.11"
  }
 },
 "nbformat": 4,
 "nbformat_minor": 2
}
