{
 "cells": [
  {
   "cell_type": "code",
   "execution_count": 2,
   "metadata": {},
   "outputs": [],
   "source": [
    "from PIL import Image\n",
    "import numpy as np\n",
    "import matplotlib.pyplot as plt"
   ]
  },
  {
   "cell_type": "code",
   "execution_count": 3,
   "metadata": {},
   "outputs": [],
   "source": [
    "def read_pixel_values(file_path):\n",
    "    with open(file_path, 'r') as file:\n",
    "        pixel_values = file.read().split(', ')\n",
    "        pixel_values = [int(val, 16) for val in pixel_values]\n",
    "        print(len(pixel_values))\n",
    "    return pixel_values"
   ]
  },
  {
   "cell_type": "code",
   "execution_count": 14,
   "metadata": {},
   "outputs": [
    {
     "name": "stdout",
     "output_type": "stream",
     "text": [
      "25344\n"
     ]
    }
   ],
   "source": [
    "import numpy as np\n",
    "from PIL import Image\n",
    "\n",
    "rows = 144  # 60 for the complete image\n",
    "columns = 176\n",
    "file_path = 'image.txt'\n",
    "pixel_data = read_pixel_values(file_path)\n",
    "\n",
    "# Build the image array from the RGB565 format\n",
    "# Build the RGB array\n",
    "rgb = [0] * 3\n",
    "# Build the Columns\n",
    "rgb_columns = [rgb] * columns\n",
    "# Build the Rows\n",
    "image_array = [rgb_columns] * rows\n",
    "image_array = np.array(image_array, dtype=np.uint8)\n",
    "\n",
    "# Algorithm based on this site: http://www.barth-dev.de/online/rgb565-color-picker/\n",
    "for x in range(0, rows):\n",
    "    for y in range(0, columns):\n",
    "        index = y + columns * x\n",
    "        pixel = pixel_data[index]\n",
    "\n",
    "        # Invert byte order\n",
    "        # pixel = ((pixel_data[index] & 0xFF) << 8) | (pixel_data[index] >> 8)\n",
    "\n",
    "        # Separate the colors\n",
    "        R = pixel & 0b1111100000000000\n",
    "        G = pixel & 0b0000011111100000\n",
    "        B = pixel & 0b0000000000011111\n",
    "\n",
    "        # Shift to the correct position\n",
    "        image_array[x, y, 0] = R >> 8\n",
    "        image_array[x, y, 1] = G >> 3\n",
    "        image_array[x, y, 2] = B << 3\n",
    "\n",
    "# Use PIL to create an image from the new array of pixels\n",
    "new_image = Image.fromarray(image_array, \"RGB\")\n",
    "new_image.save('new.png')"
   ]
  },
  {
   "cell_type": "code",
   "execution_count": 13,
   "metadata": {},
   "outputs": [
    {
     "data": {
      "image/png": "[encoded data removed]",
      "text/plain": [
       "<Figure size 640x480 with 1 Axes>"
      ]
     },
     "metadata": {},
     "output_type": "display_data"
    }
   ],
   "source": [
    "def display_grayscale_image(file_path, width, height):\n",
    "    # Read the values from the text file\n",
    "    with open(file_path, 'r') as file:\n",
    "        content = file.read().split(', ')\n",
    "\n",
    "    # Convert the values to a 2D NumPy array\n",
    "    image_data = np.array([float(value) for value in content]).reshape(height, width)\n",
    "\n",
    "    # Display the grayscale image\n",
    "    plt.imshow(image_data, cmap='gray')\n",
    "    plt.title('Grayscale Image')\n",
    "    plt.show()\n",
    "\n",
    "# Replace 'your_file.txt' with the actual file path, and specify the width and height of the image.\n",
    "file_path = 'grayscale.txt'\n",
    "image_width = 28  # Replace with the actual width of your image\n",
    "image_height = 28  # Replace with the actual height of your image\n",
    "\n",
    "display_grayscale_image(file_path, image_width, image_height)"
   ]
  }
 ],
 "metadata": {
  "kernelspec": {
   "display_name": "Python 3",
   "language": "python",
   "name": "python3"
  },
  "language_info": {
   "codemirror_mode": {
    "name": "ipython",
    "version": 3
   },
   "file_extension": ".py",
   "mimetype": "text/x-python",
   "name": "python",
   "nbconvert_exporter": "python",
   "pygments_lexer": "ipython3",
   "version": "3.12.0"
  }
 },
 "nbformat": 4,
 "nbformat_minor": 2
}
