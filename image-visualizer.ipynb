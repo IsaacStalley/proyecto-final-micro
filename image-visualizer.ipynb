{
 "cells": [
  {
   "cell_type": "code",
   "execution_count": 8,
   "metadata": {},
   "outputs": [],
   "source": [
    "from PIL import Image\n",
    "import numpy as np\n",
    "import matplotlib.pyplot as plt"
   ]
  },
  {
   "cell_type": "code",
   "execution_count": 6,
   "metadata": {},
   "outputs": [],
   "source": [
    "def read_pixel_values(file_path):\n",
    "    with open(file_path, 'r') as file:\n",
    "        pixel_values = file.read().split(', ')\n",
    "        pixel_values = [int(val, 16) for val in pixel_values]\n",
    "        print(len(pixel_values))\n",
    "    return pixel_values"
   ]
  },
  {
   "cell_type": "code",
   "execution_count": 7,
   "metadata": {},
   "outputs": [
    {
     "name": "stdout",
     "output_type": "stream",
     "text": [
      "25344\n"
     ]
    }
   ],
   "source": [
    "linhas = 144#60 #use 60 para a imagem completa\n",
    "colunas = 176\n",
    "file_path = 'image.txt'\n",
    "dataArray = read_pixel_values(file_path)\n",
    "\n",
    "# Monta o array da imagem a partir do formato RGB565             \n",
    "#Monta o RGB\n",
    "a=[0]*3\n",
    "#Monta as Colunas\n",
    "a=[a]*colunas\n",
    "#Monta as Linhas\n",
    "a=[a]*linhas\n",
    "a = np.array(a, dtype=np.uint8)\n",
    "#AlgorÃ­timo montado baseado nesse site:\n",
    "#http://www.barth-dev.de/online/rgb565-color-picker/  \n",
    "for x in range (0,linhas):\n",
    "    for y in range (0,colunas):\n",
    "        index = y+colunas*x\n",
    "        pixel = dataArray[index]\n",
    "        #invert byte order\n",
    "        #pixel = ((dataArray[index]&0xFF)<<8)|(dataArray[index]>>8)\n",
    "        #separa as cores\n",
    "        R = pixel&0b1111100000000000\n",
    "        G = pixel&0b0000011111100000\n",
    "        B = pixel&0b0000000000011111\n",
    "        #shift para a posição correta\n",
    "        a[x,y,0] = R>>8\n",
    "        a[x,y,1] = G>>3\n",
    "        a[x,y,2] = B<<3\n",
    "\n",
    "# Use PIL to create an image from the new array of pixels\n",
    "new_image = Image.fromarray(a,\"RGB\")\n",
    "new_image.save('new.png')"
   ]
  },
  {
   "cell_type": "code",
   "execution_count": 9,
   "metadata": {},
   "outputs": [
    {
     "data": {
      "image/png": "[encoded data removed]",
      "text/plain": [
       "<Figure size 640x480 with 1 Axes>"
      ]
     },
     "metadata": {},
     "output_type": "display_data"
    }
   ],
   "source": [
    "def display_grayscale_image(file_path, width, height):\n",
    "    # Read the values from the text file\n",
    "    with open(file_path, 'r') as file:\n",
    "        content = file.read().split(', ')\n",
    "\n",
    "    # Convert the values to a 2D NumPy array\n",
    "    image_data = np.array([float(value) for value in content]).reshape(height, width)\n",
    "\n",
    "    # Display the grayscale image\n",
    "    plt.imshow(image_data, cmap='gray')\n",
    "    plt.title('Grayscale Image')\n",
    "    plt.show()\n",
    "\n",
    "# Replace 'your_file.txt' with the actual file path, and specify the width and height of the image.\n",
    "file_path = 'grayscale.txt'\n",
    "image_width = 28  # Replace with the actual width of your image\n",
    "image_height = 28  # Replace with the actual height of your image\n",
    "\n",
    "display_grayscale_image(file_path, image_width, image_height)"
   ]
  }
 ],
 "metadata": {
  "kernelspec": {
   "display_name": "Python 3",
   "language": "python",
   "name": "python3"
  },
  "language_info": {
   "codemirror_mode": {
    "name": "ipython",
    "version": 3
   },
   "file_extension": ".py",
   "mimetype": "text/x-python",
   "name": "python",
   "nbconvert_exporter": "python",
   "pygments_lexer": "ipython3",
   "version": "3.10.11"
  }
 },
 "nbformat": 4,
 "nbformat_minor": 2
}
